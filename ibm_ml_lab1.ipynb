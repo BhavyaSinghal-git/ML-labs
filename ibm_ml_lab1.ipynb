{
  "cells": [
    {
      "cell_type": "markdown",
      "metadata": {
        "id": "a8KRxhJqIXOt"
      },
      "source": [
        "Lab 1b"
      ]
    },
    {
      "cell_type": "code",
      "execution_count": null,
      "metadata": {
        "colab": {
          "base_uri": "https://localhost:8080/"
        },
        "id": "uI1FNIStY0Jw",
        "outputId": "1c8c8502-40a7-4473-c6d6-a484ad195030"
      },
      "outputs": [
        {
          "name": "stdout",
          "output_type": "stream",
          "text": [
            "Enter number: 4\n",
            "40\n",
            "45\n",
            "50\n",
            "42\n",
            "[104.0, 113.0, 122.0, 107.60000000000001]\n"
          ]
        }
      ],
      "source": [
        "#Q1 i)\n",
        "\n",
        "#better alternative for input\n",
        "#temp = list(map(int, input(\"Enter values in list: \").split()))\n",
        "\n",
        "\n",
        "#taking number of elements as input\n",
        "num = int(input(\"Enter number: \"))\n",
        "\n",
        "#initialising lists\n",
        "c=[]\n",
        "f=[]\n",
        "\n",
        "#appending values in list using for loop\n",
        "for i in range(0, num):\n",
        "  c.append(int(input()))\n",
        "  f.append((9/5)*c[i]+32)\n",
        "\n",
        "#printing farenheit list\n",
        "print(f)"
      ]
    },
    {
      "cell_type": "code",
      "execution_count": null,
      "metadata": {
        "colab": {
          "base_uri": "https://localhost:8080/"
        },
        "id": "LTM_4bdWbaqq",
        "outputId": "66369093-4939-478a-a0af-ab8061ab06cb"
      },
      "outputs": [
        {
          "name": "stdout",
          "output_type": "stream",
          "text": [
            "[104.0, 113.0, 122.0, 107.60000000000001]\n"
          ]
        }
      ],
      "source": [
        "#Q1 i) list comprehension - alternative\n",
        "\n",
        "f1 = [9/5*i+32 for i in c]\n",
        "print(f1)"
      ]
    },
    {
      "cell_type": "code",
      "execution_count": null,
      "metadata": {
        "colab": {
          "base_uri": "https://localhost:8080/"
        },
        "id": "RM-bufDgZlAs",
        "outputId": "fd844954-7df3-4fce-93c3-092fd990b618"
      },
      "outputs": [
        {
          "name": "stdout",
          "output_type": "stream",
          "text": [
            "Enter values: 40 45 50 42\n",
            "104.0 113.0 122.0 107.60000000000001\n"
          ]
        }
      ],
      "source": [
        "#Q1 ii)\n",
        "\n",
        "#importing numpy and matplotlib\n",
        "import numpy as np\n",
        "import matplotlib.pyplot as plt\n",
        "\n",
        "#taking input in numpy array\n",
        "c2=np.array(list(map(int, input(\"Enter values: \").split())))\n",
        "\n",
        "#calculating values in farenheit\n",
        "f2 = 9/5*c2+32\n",
        "\n",
        "#printing all farenheit values\n",
        "print(*f2)"
      ]
    },
    {
      "cell_type": "code",
      "execution_count": null,
      "metadata": {
        "colab": {
          "base_uri": "https://localhost:8080/",
          "height": 312
        },
        "id": "ZFPtT5X5c8sa",
        "outputId": "1abbfd87-0bbb-4e1f-d217-5b0e4bb5f5f7"
      },
      "outputs": [
        {
          "data": {
            "text/plain": [
              "Text(0.5, 1.0, 'Celcius VS Farenheit')"
            ]
          },
          "execution_count": 4,
          "metadata": {},
          "output_type": "execute_result"
        },
        {
          "data": {
            "image/png": "[encoded data removed]",
            "text/plain": [
              "<Figure size 432x288 with 1 Axes>"
            ]
          },
          "metadata": {
            "needs_background": "light"
          },
          "output_type": "display_data"
        }
      ],
      "source": [
        "#Q1 iii)\n",
        "#plotting graph using matplotlib\n",
        "plt.plot(c2, f2, color=\"green\", marker=\"x\")\n",
        "\n",
        "#giving label to x axis\n",
        "plt.xlabel(\"Celcius\")\n",
        "\n",
        "#giving label to y axis\n",
        "plt.ylabel(\"Farenheit\")\n",
        "\n",
        "#title for the plot\n",
        "plt.title(\"Celcius VS Farenheit\")"
      ]
    },
    {
      "cell_type": "code",
      "execution_count": null,
      "metadata": {
        "colab": {
          "base_uri": "https://localhost:8080/"
        },
        "id": "_s_HCcrJeMT2",
        "outputId": "1e9909e4-f124-470b-a1e4-a20c1abcb5a6"
      },
      "outputs": [
        {
          "name": "stdout",
          "output_type": "stream",
          "text": [
            "1 2 3\n",
            "4 5 6\n",
            "[[3 2 1]\n",
            " [6 5 4]]\n",
            "[[4 5 6]\n",
            " [1 2 3]]\n"
          ]
        }
      ],
      "source": [
        "#Q2,3\n",
        "\n",
        "#taking input of 2D array\n",
        "m = np.array([[int(i) for i in input().split()],[int(i) for i in input().split()]])\n",
        "\n",
        "#printing the 2D array with reversed rows\n",
        "n = np.flip(m, axis=1)\n",
        "print(n)\n",
        "\n",
        "#printing the 2D array with reveresed columns\n",
        "n = np.flip(m, axis=0)\n",
        "print(n)\n",
        "\n",
        "#alternatives\n",
        "#print(np.fliplr(m))\n",
        "#print(np.flipud(m))"
      ]
    },
    {
      "cell_type": "markdown",
      "metadata": {
        "id": "jPE_cjCOO--r"
      },
      "source": [
        "**Observations and learnings:**\n",
        "\n",
        "\n",
        "> Various numpy functions were observed and implemented, array was stored as numpy array and operations were performed on each of its elements. \n",
        "\n"
      ]
    },
    {
      "cell_type": "markdown",
      "metadata": {
        "id": "4m_VBzRpO3zK"
      },
      "source": [
        "**Conclusion:**\n",
        "\n",
        "\n",
        "> \n",
        "Successfully wrote a python program to convert temperature in degree celcius to Fahrenheit with and without numpy array and plotted graph for the same using matplotlib.\n",
        "Successfully created 2D array (numpy array) and stored in m and stored the reversed elements of rows and columns in n"
      ]
    },
    {
      "cell_type": "markdown",
      "metadata": {
        "id": "PRQwk5ZhJuZs"
      },
      "source": [
        "Lab 1a"
      ]
    },
    {
      "cell_type": "code",
      "execution_count": null,
      "metadata": {
        "colab": {
          "base_uri": "https://localhost:8080/"
        },
        "id": "YCP86R4IhWEY",
        "outputId": "64338463-a069-4606-dd8c-a414d1ef847a"
      },
      "outputs": [
        {
          "name": "stdout",
          "output_type": "stream",
          "text": [
            "   gender race/ethnicity  ... reading score writing score\n",
            "0  female        group B  ...            72            74\n",
            "1  female        group C  ...            90            88\n",
            "2  female        group B  ...            95            93\n",
            "3    male        group A  ...            57            44\n",
            "4    male        group C  ...            78            75\n",
            "5  female        group B  ...            83            78\n",
            "6  female        group B  ...            95            92\n",
            "7    male        group B  ...            43            39\n",
            "8    male        group D  ...            64            67\n",
            "9  female        group B  ...            60            50\n",
            "\n",
            "[10 rows x 8 columns]\n",
            "     gender race/ethnicity  ... reading score writing score\n",
            "990    male        group E  ...            81            75\n",
            "991  female        group B  ...            82            78\n",
            "992  female        group D  ...            76            76\n",
            "993  female        group D  ...            72            74\n",
            "994    male        group A  ...            63            62\n",
            "995  female        group E  ...            99            95\n",
            "996    male        group C  ...            55            55\n",
            "997  female        group C  ...            71            65\n",
            "998  female        group D  ...            78            77\n",
            "999  female        group D  ...            86            86\n",
            "\n",
            "[10 rows x 8 columns]\n"
          ]
        }
      ],
      "source": [
        "#importing pandas\n",
        "import pandas as pd\n",
        "\n",
        "#reading data from csv file\n",
        "df = pd.read_csv(\"/content/StudentsPerformance.csv\") #right click file in colab files and copy path\n",
        "\n",
        "#printing the first 10 data records from the data frame\n",
        "df2 = df.head(10)\n",
        "print(df2)\n",
        "\n",
        "#printing last 10 records from the data frame\n",
        "df1 = df.tail(10)\n",
        "print(df1)\n"
      ]
    },
    {
      "cell_type": "code",
      "execution_count": null,
      "metadata": {
        "id": "pEjSeiA-lGUY"
      },
      "outputs": [],
      "source": [
        "#saving the last ten data records to a csv file\n",
        "df1.to_csv(\"last_ten\")"
      ]
    },
    {
      "cell_type": "code",
      "execution_count": null,
      "metadata": {
        "colab": {
          "base_uri": "https://localhost:8080/"
        },
        "id": "AhCAJuH8lr6o",
        "outputId": "3cd64023-592b-40d8-beb6-21a47c1dfb89"
      },
      "outputs": [
        {
          "data": {
            "text/plain": [
              "(1000, 8)"
            ]
          },
          "execution_count": 8,
          "metadata": {},
          "output_type": "execute_result"
        }
      ],
      "source": [
        "#getting row and column number\n",
        "df.shape"
      ]
    },
    {
      "cell_type": "code",
      "execution_count": null,
      "metadata": {
        "colab": {
          "base_uri": "https://localhost:8080/"
        },
        "id": "85hQaWgKmniR",
        "outputId": "642327b7-5cd9-457f-a372-be2e7a849c52"
      },
      "outputs": [
        {
          "data": {
            "text/plain": [
              "2"
            ]
          },
          "execution_count": 9,
          "metadata": {},
          "output_type": "execute_result"
        }
      ],
      "source": [
        "#returns 1 if series and 2 if data frame\n",
        "df.ndim"
      ]
    },
    {
      "cell_type": "code",
      "execution_count": null,
      "metadata": {
        "colab": {
          "base_uri": "https://localhost:8080/"
        },
        "id": "3mudR83xmppg",
        "outputId": "cf8ede6e-f122-47ad-9c75-2b3c41074a54"
      },
      "outputs": [
        {
          "data": {
            "text/plain": [
              "array([['female', 'group B', \"bachelor's degree\", ..., 72, 72, 74],\n",
              "       ['female', 'group C', 'some college', ..., 69, 90, 88],\n",
              "       ['female', 'group B', \"master's degree\", ..., 90, 95, 93],\n",
              "       ...,\n",
              "       ['female', 'group C', 'high school', ..., 59, 71, 65],\n",
              "       ['female', 'group D', 'some college', ..., 68, 78, 77],\n",
              "       ['female', 'group D', 'some college', ..., 77, 86, 86]],\n",
              "      dtype=object)"
            ]
          },
          "execution_count": 10,
          "metadata": {},
          "output_type": "execute_result"
        }
      ],
      "source": [
        "#Only the values in the DataFrame will be returned, the axes labels will be removed.\n",
        "df.values"
      ]
    },
    {
      "cell_type": "code",
      "execution_count": null,
      "metadata": {
        "colab": {
          "base_uri": "https://localhost:8080/"
        },
        "id": "4sXyBFf3mryA",
        "outputId": "36ee5727-6c95-4661-fdc6-f40445b4b983"
      },
      "outputs": [
        {
          "data": {
            "text/plain": [
              "gender                         object\n",
              "race/ethnicity                 object\n",
              "parental level of education    object\n",
              "lunch                          object\n",
              "test preparation course        object\n",
              "math score                      int64\n",
              "reading score                   int64\n",
              "writing score                   int64\n",
              "dtype: object"
            ]
          },
          "execution_count": 11,
          "metadata": {},
          "output_type": "execute_result"
        }
      ],
      "source": [
        "#This returns a Series with the data type of each column. The result’s index is the original DataFrame’s columns. Columns with mixed types are stored with the object dtype.\n",
        "df.dtypes"
      ]
    },
    {
      "cell_type": "code",
      "execution_count": null,
      "metadata": {
        "colab": {
          "base_uri": "https://localhost:8080/"
        },
        "id": "l9GK4kM6mv0_",
        "outputId": "99a0a25c-a20c-4a27-fa0b-048bf720b620"
      },
      "outputs": [
        {
          "data": {
            "text/plain": [
              "69.169"
            ]
          },
          "execution_count": 12,
          "metadata": {},
          "output_type": "execute_result"
        }
      ],
      "source": [
        "#get mean of 'reading score' column from data frame\n",
        "df[\"reading score\"].mean()"
      ]
    },
    {
      "cell_type": "code",
      "execution_count": null,
      "metadata": {
        "colab": {
          "base_uri": "https://localhost:8080/"
        },
        "id": "I1fuyr85m3T_",
        "outputId": "a5b6e74e-a120-4220-96ec-a412f3cb6b68"
      },
      "outputs": [
        {
          "data": {
            "text/plain": [
              "66089"
            ]
          },
          "execution_count": 13,
          "metadata": {},
          "output_type": "execute_result"
        }
      ],
      "source": [
        "#get sum of 'math score' column from data frame\n",
        "df[\"math score\"].sum()"
      ]
    },
    {
      "cell_type": "code",
      "execution_count": null,
      "metadata": {
        "colab": {
          "base_uri": "https://localhost:8080/"
        },
        "id": "mxcS8GYWm-o_",
        "outputId": "81b041af-24bf-4271-8940-6571f6aafa69"
      },
      "outputs": [
        {
          "data": {
            "text/plain": [
              "count    1000.000000\n",
              "mean       68.054000\n",
              "std        15.195657\n",
              "min        10.000000\n",
              "25%        57.750000\n",
              "50%        69.000000\n",
              "75%        79.000000\n",
              "max       100.000000\n",
              "Name: writing score, dtype: float64"
            ]
          },
          "execution_count": 14,
          "metadata": {},
          "output_type": "execute_result"
        }
      ],
      "source": [
        "#get Summary statistics of 'writing score' column from data frame\n",
        "df['writing score'].describe()"
      ]
    },
    {
      "cell_type": "code",
      "execution_count": null,
      "metadata": {
        "colab": {
          "base_uri": "https://localhost:8080/"
        },
        "id": "l6qTXtAlnIuf",
        "outputId": "ef111023-ad97-4690-f4f8-dc6cafb9886e"
      },
      "outputs": [
        {
          "data": {
            "text/plain": [
              "15.163080096009468"
            ]
          },
          "execution_count": 15,
          "metadata": {},
          "output_type": "execute_result"
        }
      ],
      "source": [
        "#returns standard deviation of the column\n",
        "df['math score'].std()"
      ]
    },
    {
      "cell_type": "code",
      "execution_count": null,
      "metadata": {
        "colab": {
          "base_uri": "https://localhost:8080/"
        },
        "id": "FPsnlpAbnXRu",
        "outputId": "a54e46b4-5845-43da-fbdb-98e4f8957a3b"
      },
      "outputs": [
        {
          "name": "stdout",
          "output_type": "stream",
          "text": [
            "    writing score  reading score\n",
            "5              78             83\n",
            "6              92             95\n",
            "7              39             43\n",
            "8              67             64\n",
            "9              50             60\n",
            "10             52             54\n",
            "11             43             52\n",
            "12             73             81\n",
            "13             70             72\n",
            "14             58             53\n"
          ]
        }
      ],
      "source": [
        "#printing the required roows from the particular columns\n",
        "df3 = df[5:15][['writing score','reading score']]\n",
        "print(df3)"
      ]
    },
    {
      "cell_type": "code",
      "execution_count": null,
      "metadata": {
        "colab": {
          "base_uri": "https://localhost:8080/"
        },
        "id": "FrLQPSPbn2vh",
        "outputId": "f3323765-54c0-411f-f4ab-b499179a2937"
      },
      "outputs": [
        {
          "data": {
            "text/plain": [
              "58"
            ]
          },
          "execution_count": 17,
          "metadata": {},
          "output_type": "execute_result"
        }
      ],
      "source": [
        "#getting data from a particular position from required column\n",
        "df.iloc[10]['math score']"
      ]
    },
    {
      "cell_type": "code",
      "execution_count": null,
      "metadata": {
        "colab": {
          "base_uri": "https://localhost:8080/",
          "height": 293
        },
        "id": "wtdXopuGp7PQ",
        "outputId": "17ea2265-8c17-41b9-a80f-8b51e6a4e373"
      },
      "outputs": [
        {
          "data": {
            "text/plain": [
              "<BarContainer object of 1000 artists>"
            ]
          },
          "execution_count": 18,
          "metadata": {},
          "output_type": "execute_result"
        },
        {
          "data": {
            "image/png": "[encoded data removed]",
            "text/plain": [
              "<Figure size 1440x720 with 1 Axes>"
            ]
          },
          "metadata": {
            "needs_background": "light"
          },
          "output_type": "display_data"
        }
      ],
      "source": [
        "#setting the figure size\n",
        "plt.figure(figsize=(20,10))\n",
        "\n",
        "#plotting a bar graph of parental level education vs math score\n",
        "plt.bar(df['parental level of education'], df['math score'])\n"
      ]
    },
    {
      "cell_type": "code",
      "execution_count": null,
      "metadata": {
        "colab": {
          "base_uri": "https://localhost:8080/",
          "height": 282
        },
        "id": "SAeNxTcWqFqY",
        "outputId": "fed0ffeb-2994-4e76-f74e-226e8a7e89a9"
      },
      "outputs": [
        {
          "data": {
            "text/plain": [
              "<BarContainer object of 1000 artists>"
            ]
          },
          "execution_count": 22,
          "metadata": {},
          "output_type": "execute_result"
        },
        {
          "data": {
            "image/png": "[encoded data removed]",
            "text/plain": [
              "<Figure size 432x288 with 1 Axes>"
            ]
          },
          "metadata": {
            "needs_background": "light"
          },
          "output_type": "display_data"
        }
      ],
      "source": [
        "#plotting graph of gender vs writing score\n",
        "plt.bar(df['gender'], df['writing score'])"
      ]
    },
    {
      "cell_type": "code",
      "execution_count": null,
      "metadata": {
        "colab": {
          "base_uri": "https://localhost:8080/",
          "height": 282
        },
        "id": "ib8q8iJfS9EN",
        "outputId": "97827475-a994-4d78-914f-27663cd9f55b"
      },
      "outputs": [
        {
          "data": {
            "text/plain": [
              "<BarContainer object of 1000 artists>"
            ]
          },
          "execution_count": 20,
          "metadata": {},
          "output_type": "execute_result"
        },
        {
          "data": {
            "image/png": "[encoded data removed]",
            "text/plain": [
              "<Figure size 432x288 with 1 Axes>"
            ]
          },
          "metadata": {
            "needs_background": "light"
          },
          "output_type": "display_data"
        }
      ],
      "source": [
        "#plotting bar graph for gender vs math score\n",
        "plt.bar(df['gender'], df['math score'])"
      ]
    },
    {
      "cell_type": "code",
      "execution_count": null,
      "metadata": {
        "colab": {
          "base_uri": "https://localhost:8080/",
          "height": 282
        },
        "id": "MvAnmuRkTNNG",
        "outputId": "9f33183d-4e36-461a-913a-5f0bfd183962"
      },
      "outputs": [
        {
          "data": {
            "text/plain": [
              "<BarContainer object of 1000 artists>"
            ]
          },
          "execution_count": 21,
          "metadata": {},
          "output_type": "execute_result"
        },
        {
          "data": {
            "image/png": "[encoded data removed]",
            "text/plain": [
              "<Figure size 432x288 with 1 Axes>"
            ]
          },
          "metadata": {
            "needs_background": "light"
          },
          "output_type": "display_data"
        }
      ],
      "source": [
        "#plotting bar graph for gender vs reading score\n",
        "plt.bar(df['gender'], df['reading score'])"
      ]
    },
    {
      "cell_type": "markdown",
      "metadata": {
        "id": "MdbIsVuRTbfB"
      },
      "source": [
        "**Conclusion:**\n",
        "\n",
        "> Successfully implemented pandas basic functionalities and statistics functionalities, plotted graph to show relation between 'parental level of education' and 'math score'. Successfullly plotted graph to show relation between gender and various scores.\n",
        "\n"
      ]
    }
  ],
  "metadata": {
    "colab": {
      "collapsed_sections": [],
      "name": "ibm_ml_lab1.ipynb",
      "provenance": []
    },
    "kernelspec": {
      "display_name": "Python 3",
      "name": "python3"
    },
    "language_info": {
      "name": "python"
    }
  },
  "nbformat": 4,
  "nbformat_minor": 0
}
